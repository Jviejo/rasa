{
 "cells": [
  {
   "cell_type": "code",
   "execution_count": 25,
   "metadata": {},
   "outputs": [
    {
     "name": "stdout",
     "output_type": "stream",
     "text": [
      "{'intent': {'name': 'intentdir', 'confidence': 0.8632375597953796}, 'entities': [{'entity': 'siglas', 'start': 0, 'end': 2, 'confidence_entity': 0.9163153444864335, 'value': 'AV', 'extractor': 'CRFEntityExtractor'}, {'entity': 'calle', 'start': 3, 'end': 14, 'confidence_entity': 0.7952304396832305, 'value': 'LA ESTACION', 'extractor': 'CRFEntityExtractor'}, {'entity': 'num1', 'start': 15, 'end': 16, 'confidence_entity': 0.9781242259771376, 'value': '3', 'extractor': 'CRFEntityExtractor'}, {'entity': 'planta', 'start': 17, 'end': 19, 'confidence_entity': 0.875064422359697, 'value': '45', 'extractor': 'CRFEntityExtractor'}, {'entity': 'puerta', 'start': 20, 'end': 21, 'confidence_entity': 0.8890789721276242, 'value': 'B', 'extractor': 'CRFEntityExtractor'}], 'intent_ranking': [{'name': 'intentdir', 'confidence': 0.8632375597953796}, {'name': 'voluntaria', 'confidence': 0.02715618908405304}, {'name': 'notificaciones', 'confidence': 0.020040757954120636}, {'name': 'personas', 'confidence': 0.016107313334941864}, {'name': 'multas', 'confidence': 0.013773489743471146}, {'name': 'reset', 'confidence': 0.013633934780955315}, {'name': 'cambiar', 'confidence': 0.012417017482221127}, {'name': 'intentvoluntaria', 'confidence': 0.012062540277838707}, {'name': 'organismos', 'confidence': 0.012004008516669273}, {'name': 'fraccionar', 'confidence': 0.009567204862833023}], 'text': 'AV LA ESTACION 3 45 B'}\n",
      "{'intent': {'name': 'intentdir', 'confidence': 0.8632375597953796}, 'entities': [{'entity': 'siglas', 'start': 0, 'end': 2, 'confidence_entity': 0.9163153444864335, 'value': 'AV', 'extractor': 'CRFEntityExtractor'}, {'entity': 'calle', 'start': 3, 'end': 14, 'confidence_entity': 0.7952304396832305, 'value': 'LA ESTACION', 'extractor': 'CRFEntityExtractor'}, {'entity': 'num1', 'start': 15, 'end': 16, 'confidence_entity': 0.9781242259771376, 'value': '3', 'extractor': 'CRFEntityExtractor'}, {'entity': 'planta', 'start': 17, 'end': 19, 'confidence_entity': 0.875064422359697, 'value': '45', 'extractor': 'CRFEntityExtractor'}, {'entity': 'puerta', 'start': 20, 'end': 21, 'confidence_entity': 0.8890789721276242, 'value': 'B', 'extractor': 'CRFEntityExtractor'}], 'intent_ranking': [{'name': 'intentdir', 'confidence': 0.8632375597953796}, {'name': 'voluntaria', 'confidence': 0.02715618908405304}, {'name': 'notificaciones', 'confidence': 0.020040757954120636}, {'name': 'personas', 'confidence': 0.016107313334941864}, {'name': 'multas', 'confidence': 0.013773489743471146}, {'name': 'reset', 'confidence': 0.013633934780955315}, {'name': 'cambiar', 'confidence': 0.012417017482221127}, {'name': 'intentvoluntaria', 'confidence': 0.012062540277838707}, {'name': 'organismos', 'confidence': 0.012004008516669273}, {'name': 'fraccionar', 'confidence': 0.009567204862833023}], 'text': 'AV LA ESTACION 3 45 B'}\n"
     ]
    }
   ],
   "source": [
    "from inicio.models import ChatModel\n",
    "import json\n",
    "#ChatModel.objects.all().delete()\n",
    "for i in ChatModel.objects.all():\n",
    "   print(json.loads(i.texto))\n",
    "\n"
   ]
  }
 ],
 "metadata": {
  "kernelspec": {
   "display_name": "Django Shell-Plus",
   "language": "python",
   "name": "django_extensions"
  },
  "language_info": {
   "codemirror_mode": {
    "name": "ipython",
    "version": 3
   },
   "file_extension": ".py",
   "mimetype": "text/x-python",
   "name": "python",
   "nbconvert_exporter": "python",
   "pygments_lexer": "ipython3",
   "version": "3.7.8"
  }
 },
 "nbformat": 4,
 "nbformat_minor": 4
}
