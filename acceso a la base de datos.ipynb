{
 "cells": [
  {
   "cell_type": "code",
   "execution_count": 1,
   "metadata": {},
   "outputs": [
    {
     "name": "stdout",
     "output_type": "stream",
     "text": [
      "{'intent': {'name': 'intentdir', 'confidence': 0.8632375597953796}, 'entities': [{'entity': 'siglas', 'start': 0, 'end': 2, 'confidence_entity': 0.9163153444864335, 'value': 'AV', 'extractor': 'CRFEntityExtractor'}, {'entity': 'calle', 'start': 3, 'end': 14, 'confidence_entity': 0.7952304396832305, 'value': 'LA ESTACION', 'extractor': 'CRFEntityExtractor'}, {'entity': 'num1', 'start': 15, 'end': 16, 'confidence_entity': 0.9781242259771376, 'value': '3', 'extractor': 'CRFEntityExtractor'}, {'entity': 'planta', 'start': 17, 'end': 19, 'confidence_entity': 0.875064422359697, 'value': '45', 'extractor': 'CRFEntityExtractor'}, {'entity': 'puerta', 'start': 20, 'end': 21, 'confidence_entity': 0.8890789721276242, 'value': 'B', 'extractor': 'CRFEntityExtractor'}], 'intent_ranking': [{'name': 'intentdir', 'confidence': 0.8632375597953796}, {'name': 'voluntaria', 'confidence': 0.02715618908405304}, {'name': 'notificaciones', 'confidence': 0.020040757954120636}, {'name': 'personas', 'confidence': 0.016107313334941864}, {'name': 'multas', 'confidence': 0.013773489743471146}, {'name': 'reset', 'confidence': 0.013633934780955315}, {'name': 'cambiar', 'confidence': 0.012417017482221127}, {'name': 'intentvoluntaria', 'confidence': 0.012062540277838707}, {'name': 'organismos', 'confidence': 0.012004008516669273}, {'name': 'fraccionar', 'confidence': 0.009567204862833023}], 'text': 'AV LA ESTACION 3 45 B'}\n"
     ]
    }
   ],
   "source": [
    "from inicio.models import ChatModel, Frases\n",
    "import json\n",
    "\n",
    "for i in ChatModel.objects.all():\n",
    "   print(json.loads(i.texto))\n",
    "\n"
   ]
  },
  {
   "cell_type": "code",
   "execution_count": 6,
   "metadata": {},
   "outputs": [
    {
     "name": "stdout",
     "output_type": "stream",
     "text": [
      "{\"intent\":{\"name\":\"buscar\",\"confidence\":0.9890291094779968},\"entities\":[{\"entity\":\"nif\",\"start\":6,\"end\":15,\"confidence_entity\":0.9112880515122538,\"value\":\"12246622L\",\"extractor\":\"CRFEntityExtractor\"}],\"intent_ranking\":[{\"name\":\"buscar\",\"confidence\":0.9890291094779968},{\"name\":\"ejemplos\",\"confidence\":0.00177357392385602},{\"name\":\"fraccionar\",\"confidence\":0.0017456234199926257},{\"name\":\"levantamiento_embargos\",\"confidence\":0.001611561980098486},{\"name\":\"ayuda\",\"confidence\":0.0015794378705322742},{\"name\":\"ejecutiva\",\"confidence\":0.0013283917214721441},{\"name\":\"afirmacion\",\"confidence\":0.000987284816801548},{\"name\":\"voluntaria\",\"confidence\":0.00081293610855937},{\"name\":\"organismos\",\"confidence\":0.0005722104688175023},{\"name\":\"expediente_gestion\",\"confidence\":0.0005598725401796401}],\"text\":\"busca 12246622L\"}\n",
      "{\"intent\":{\"name\":\"buscar\",\"confidence\":0.9960050582885742},\"entities\":[{\"entity\":\"nif\",\"start\":0,\"end\":9,\"confidence_entity\":0.8782763200376648,\"value\":\"12246622L\",\"extractor\":\"CRFEntityExtractor\"}],\"intent_ranking\":[{\"name\":\"buscar\",\"confidence\":0.9960050582885742},{\"name\":\"ejecutiva\",\"confidence\":0.0006158724427223206},{\"name\":\"fraccionar\",\"confidence\":0.0005943236174061894},{\"name\":\"ejemplos\",\"confidence\":0.0005795271717943251},{\"name\":\"ayuda\",\"confidence\":0.0005186967318877578},{\"name\":\"afirmacion\",\"confidence\":0.000496417807880789},{\"name\":\"levantamiento_embargos\",\"confidence\":0.0004904502420686185},{\"name\":\"registro_transmisiones\",\"confidence\":0.00024272322480101138},{\"name\":\"expediente_gestion\",\"confidence\":0.0002369084395468235},{\"name\":\"organismos\",\"confidence\":0.0002200476301368326}],\"text\":\"12246622L\"}\n",
      "{\"intent\":{\"name\":\"buscar\",\"confidence\":0.9943041801452637},\"entities\":[{\"entity\":\"nombre\",\"start\":0,\"end\":17,\"confidence_entity\":0.9494764732004728,\"value\":\"VIEJO HUERTA JOSE\",\"extractor\":\"CRFEntityExtractor\"}],\"intent_ranking\":[{\"name\":\"buscar\",\"confidence\":0.9943041801452637},{\"name\":\"ejemplos\",\"confidence\":0.001425777212716639},{\"name\":\"ejecutiva\",\"confidence\":0.0011002706596627831},{\"name\":\"voluntaria\",\"confidence\":0.0006950207753106952},{\"name\":\"fraccionar\",\"confidence\":0.0006055479752831161},{\"name\":\"ibi\",\"confidence\":0.0005763540393672884},{\"name\":\"levantamiento_embargos\",\"confidence\":0.0004235542146489024},{\"name\":\"ayuda\",\"confidence\":0.00038697844138368964},{\"name\":\"cambiar\",\"confidence\":0.00024256767937913537},{\"name\":\"registro_transmisiones\",\"confidence\":0.0002397190546616912}],\"text\":\"VIEJO HUERTA JOSE\"}\n",
      "{\"intent\":{\"name\":\"buscar\",\"confidence\":0.9381530284881592},\"entities\":[{\"entity\":\"apellido\",\"start\":0,\"end\":5,\"confidence_entity\":0.5382693875756878,\"value\":\"LOPEZ\",\"extractor\":\"CRFEntityExtractor\"},{\"entity\":\"nombre\",\"start\":6,\"end\":20,\"confidence_entity\":0.9235517663301089,\"value\":\"OBRADOR MANUAL\",\"extractor\":\"CRFEntityExtractor\"}],\"intent_ranking\":[{\"name\":\"buscar\",\"confidence\":0.9381530284881592},{\"name\":\"levantamiento_embargos\",\"confidence\":0.012726839631795883},{\"name\":\"afirmacion\",\"confidence\":0.00974931288510561},{\"name\":\"ejecutiva\",\"confidence\":0.009733623825013638},{\"name\":\"organismos\",\"confidence\":0.006688525900244713},{\"name\":\"expediente_gestion\",\"confidence\":0.005978512577712536},{\"name\":\"fraccionar\",\"confidence\":0.005092808976769447},{\"name\":\"voluntaria\",\"confidence\":0.004044172819703817},{\"name\":\"ejemplos\",\"confidence\":0.003924197051674128},{\"name\":\"liquidar\",\"confidence\":0.003908911254256964}],\"text\":\"LOPEZ OBRADOR MANUAL\"}\n",
      "{\"intent\":{\"name\":\"buscar\",\"confidence\":0.999638557434082},\"entities\":[{\"entity\":\"expediente\",\"start\":0,\"end\":10,\"confidence_entity\":0.5702755405729035,\"value\":\"1234567890\",\"extractor\":\"CRFEntityExtractor\"}],\"intent_ranking\":[{\"name\":\"buscar\",\"confidence\":0.999638557434082},{\"name\":\"ejecutiva\",\"confidence\":0.00006835730164311826},{\"name\":\"levantamiento_embargos\",\"confidence\":0.0000670179579174146},{\"name\":\"ejemplos\",\"confidence\":0.000050867576646851376},{\"name\":\"fraccionar\",\"confidence\":0.000048862031690077856},{\"name\":\"ayuda\",\"confidence\":0.00003593152723624371},{\"name\":\"afirmacion\",\"confidence\":0.00003218376150471158},{\"name\":\"voluntaria\",\"confidence\":0.0000211730530281784},{\"name\":\"expediente_gestion\",\"confidence\":0.00001900408824440092},{\"name\":\"organismos\",\"confidence\":0.00001810151843528729}],\"text\":\"1234567890\"}\n",
      "{\"intent\":{\"name\":\"buscar\",\"confidence\":0.999638557434082},\"entities\":[{\"entity\":\"expediente\",\"start\":0,\"end\":10,\"confidence_entity\":0.6694740076142641,\"value\":\"9876543210\",\"extractor\":\"CRFEntityExtractor\"}],\"intent_ranking\":[{\"name\":\"buscar\",\"confidence\":0.999638557434082},{\"name\":\"ejecutiva\",\"confidence\":0.00006835730164311826},{\"name\":\"levantamiento_embargos\",\"confidence\":0.0000670179579174146},{\"name\":\"ejemplos\",\"confidence\":0.000050867576646851376},{\"name\":\"fraccionar\",\"confidence\":0.000048862031690077856},{\"name\":\"ayuda\",\"confidence\":0.00003593152723624371},{\"name\":\"afirmacion\",\"confidence\":0.00003218376150471158},{\"name\":\"voluntaria\",\"confidence\":0.0000211730530281784},{\"name\":\"expediente_gestion\",\"confidence\":0.00001900408824440092},{\"name\":\"organismos\",\"confidence\":0.00001810151843528729}],\"text\":\"9876543210\"}\n"
     ]
    }
   ],
   "source": [
    "Frases.objects.all().delete()\n",
    "Frases.objects.create(frase=\"busca 12246622L\", entidades=\n",
    "                      \"{'intent': {'name': 'buscar'},'entities':[{'entity':'nif', 'value':'12246622L'}]}\")\n",
    "Frases.objects.create(frase=\"12246622L\", entidades=\n",
    "                      \"{'intent': {'name': 'buscar'},'entities':[{'entity':'nif', 'value':'12246622L'}]}\")\n",
    "\n",
    "Frases.objects.create(frase=\"VIEJO HUERTA JOSE\", entidades=\n",
    "                      \"{'intent': {'name': 'buscar'},'entities':[{'entity':'nif', 'value':'12246622L'}]}\")\n",
    "Frases.objects.create(frase=\"LOPEZ OBRADOR MANUAL\", entidades=\n",
    "                      \"{'intent': {'name': 'buscar'},'entities':[{'entity':'nif', 'value':'12246622L'}]}\")\n",
    "\n",
    "\n",
    "\n",
    "\n",
    "Frases.objects.create(frase=\"1234567890\", entidades=\n",
    "                      \"{'intent': {'name': 'buscar'},'entities':[{'entity':'rc', 'value':'12246622L'}]}\")\n",
    "Frases.objects.create(frase=\"9876543210\", entidades=\n",
    "                      \"{'intent': {'name': 'buscar'},'entities':[{'entity':'rc', 'value':'12246622L'}]}\")\n",
    "Frases.procesar()\n",
    "for frase in Frases.objects.all():\n",
    "    json.loads()\n",
    "    "
   ]
  }
 ],
 "metadata": {
  "kernelspec": {
   "display_name": "Django Shell-Plus",
   "language": "python",
   "name": "django_extensions"
  },
  "language_info": {
   "codemirror_mode": {
    "name": "ipython",
    "version": 3
   },
   "file_extension": ".py",
   "mimetype": "text/x-python",
   "name": "python",
   "nbconvert_exporter": "python",
   "pygments_lexer": "ipython3",
   "version": "3.7.8"
  }
 },
 "nbformat": 4,
 "nbformat_minor": 4
}
